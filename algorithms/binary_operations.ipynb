{
 "cells": [
  {
   "cell_type": "markdown",
   "id": "c8bb116a-7fac-4c7a-aac3-bce7997ca340",
   "metadata": {},
   "source": [
    "# Binary Operations"
   ]
  },
  {
   "cell_type": "code",
   "execution_count": 2,
   "id": "17c6e006-a857-4e47-89bb-173983606c8f",
   "metadata": {},
   "outputs": [],
   "source": [
    "from typing import List"
   ]
  },
  {
   "cell_type": "markdown",
   "id": "495ef9ab-f752-43ba-ba96-67a4e9127d24",
   "metadata": {},
   "source": [
    "# Add Binary Integers"
   ]
  },
  {
   "cell_type": "code",
   "execution_count": 7,
   "id": "bfd1f979-6a53-4393-b219-de9e60c2651b",
   "metadata": {},
   "outputs": [
    {
     "data": {
      "text/plain": [
       "[0, 0, 0, 0, 1]"
      ]
     },
     "execution_count": 7,
     "metadata": {},
     "output_type": "execute_result"
    }
   ],
   "source": [
    "def add_binary_integers(A: List[int], B: List[int]) -> List[int]:\n",
    "    C = [0] * (len(A) + 1)\n",
    "    carry = 0\n",
    "\n",
    "    for i in range(len(A)):\n",
    "        C[i] = A[i] ^ B[i] ^ carry\n",
    "        carry = A[i] & B[i] | carry & A[i] | carry & B[i]\n",
    "\n",
    "    C[-1] = carry\n",
    "\n",
    "    return C\n",
    "\n",
    "\n",
    "add_binary_integers([1, 0, 1, 0], [1, 1, 0, 1])"
   ]
  },
  {
   "cell_type": "code",
   "execution_count": null,
   "id": "d5452f02-1b64-4e07-a7ad-472b746a531d",
   "metadata": {},
   "outputs": [],
   "source": []
  }
 ],
 "metadata": {
  "kernelspec": {
   "display_name": "Python 3 (ipykernel)",
   "language": "python",
   "name": "python3"
  },
  "language_info": {
   "codemirror_mode": {
    "name": "ipython",
    "version": 3
   },
   "file_extension": ".py",
   "mimetype": "text/x-python",
   "name": "python",
   "nbconvert_exporter": "python",
   "pygments_lexer": "ipython3",
   "version": "3.8.10"
  }
 },
 "nbformat": 4,
 "nbformat_minor": 5
}
