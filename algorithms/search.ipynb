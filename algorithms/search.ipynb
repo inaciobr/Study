{
 "cells": [
  {
   "cell_type": "markdown",
   "id": "3ec71d05-81c1-49fd-8c2b-58b5a6436e69",
   "metadata": {},
   "source": [
    "# Search"
   ]
  },
  {
   "cell_type": "code",
   "execution_count": 2,
   "id": "bf3d6404-4a75-4b16-9192-24a559b0802d",
   "metadata": {},
   "outputs": [],
   "source": [
    "from typing import List"
   ]
  },
  {
   "cell_type": "code",
   "execution_count": 95,
   "id": "429fc0eb-aff7-4736-9ca3-09bf4ca0c321",
   "metadata": {},
   "outputs": [],
   "source": [
    "A = range(1_000_000)\n",
    "target = 387_123"
   ]
  },
  {
   "cell_type": "markdown",
   "id": "64fdc388-3244-4709-af16-f72e7f9059c1",
   "metadata": {},
   "source": [
    "# Linear Search"
   ]
  },
  {
   "cell_type": "code",
   "execution_count": 96,
   "id": "41cc2989-0a82-45b5-8018-e0bdb35cd704",
   "metadata": {},
   "outputs": [
    {
     "name": "stdout",
     "output_type": "stream",
     "text": [
      "CPU times: user 25 ms, sys: 146 µs, total: 25.1 ms\n",
      "Wall time: 24.7 ms\n"
     ]
    },
    {
     "data": {
      "text/plain": [
       "387123"
      ]
     },
     "execution_count": 96,
     "metadata": {},
     "output_type": "execute_result"
    }
   ],
   "source": [
    "%%time\n",
    "def linear_search(A: List, target) -> int:\n",
    "    for idx, x in enumerate(A):\n",
    "        if x == target:\n",
    "            return idx\n",
    "\n",
    "linear_search(A, target)"
   ]
  },
  {
   "cell_type": "markdown",
   "id": "355a4481-f163-48f6-b8ba-4078702e2cc0",
   "metadata": {},
   "source": [
    "# Binary Search"
   ]
  },
  {
   "cell_type": "code",
   "execution_count": 97,
   "id": "3540464c-f053-41c6-ae4b-62759c2f3047",
   "metadata": {},
   "outputs": [
    {
     "name": "stdout",
     "output_type": "stream",
     "text": [
      "CPU times: user 24 µs, sys: 0 ns, total: 24 µs\n",
      "Wall time: 26.7 µs\n"
     ]
    },
    {
     "data": {
      "text/plain": [
       "387123"
      ]
     },
     "execution_count": 97,
     "metadata": {},
     "output_type": "execute_result"
    }
   ],
   "source": [
    "%%time\n",
    "def binary_search(A: List, target) -> int:\n",
    "    left, right = 0, len(A) - 1\n",
    "\n",
    "    while left <= right:\n",
    "        mid = (left + right) // 2\n",
    "\n",
    "        if target > A[mid]:\n",
    "            left = mid + 1\n",
    "        elif target < A[mid]:\n",
    "            right = mid - 1\n",
    "        else:\n",
    "            return mid\n",
    "\n",
    "    return -1\n",
    "\n",
    "\n",
    "binary_search(A, target)"
   ]
  },
  {
   "cell_type": "code",
   "execution_count": 98,
   "id": "a40bd673-cb3f-4e05-83ba-fa4cafb0a765",
   "metadata": {},
   "outputs": [
    {
     "name": "stdout",
     "output_type": "stream",
     "text": [
      "CPU times: user 38 µs, sys: 2 µs, total: 40 µs\n",
      "Wall time: 41.7 µs\n"
     ]
    },
    {
     "data": {
      "text/plain": [
       "387123"
      ]
     },
     "execution_count": 98,
     "metadata": {},
     "output_type": "execute_result"
    }
   ],
   "source": [
    "%%time\n",
    "def recursive_binary_search(A: List, target, start=0) -> int:\n",
    "    if not len(A):\n",
    "        return -1\n",
    "\n",
    "    mid = len(A) // 2\n",
    "\n",
    "    if target > A[mid]:\n",
    "        return recursive_binary_search(A[mid + 1:], target, start + mid + 1)\n",
    "    elif target < A[mid]:\n",
    "        return recursive_binary_search(A[:mid], target, start)\n",
    "\n",
    "    return start + mid\n",
    "\n",
    "recursive_binary_search(A, target)"
   ]
  },
  {
   "cell_type": "markdown",
   "id": "e21fc7af-e04d-4378-bb28-324c695d2b94",
   "metadata": {},
   "source": [
    "# Two-sum"
   ]
  },
  {
   "cell_type": "code",
   "execution_count": 148,
   "id": "2d35f650-c94e-4b02-88ff-a728ace6a7a0",
   "metadata": {},
   "outputs": [
    {
     "name": "stdout",
     "output_type": "stream",
     "text": [
      "CPU times: user 149 ms, sys: 10 ms, total: 159 ms\n",
      "Wall time: 158 ms\n"
     ]
    },
    {
     "data": {
      "text/plain": [
       "(0, 387123)"
      ]
     },
     "execution_count": 148,
     "metadata": {},
     "output_type": "execute_result"
    }
   ],
   "source": [
    "%%time\n",
    "def two_sum_pointer(S, target):\n",
    "    S = sorted(S)\n",
    "    left, right = 0, len(S) - 1\n",
    "\n",
    "    while left < right:\n",
    "        if S[left] + S[right] < target:\n",
    "            left += 1\n",
    "        elif S[left] + S[right] > target:\n",
    "            right -= 1\n",
    "        else:\n",
    "            return S[left], S[right]\n",
    "\n",
    "    return None\n",
    "\n",
    "\n",
    "two_sum_pointer(A, target)"
   ]
  },
  {
   "cell_type": "code",
   "execution_count": 150,
   "id": "1a24e186-b632-414a-a05c-5f378aa9b350",
   "metadata": {},
   "outputs": [
    {
     "name": "stdout",
     "output_type": "stream",
     "text": [
      "CPU times: user 28 ms, sys: 0 ns, total: 28 ms\n",
      "Wall time: 27.4 ms\n"
     ]
    },
    {
     "data": {
      "text/plain": [
       "(193562, 193561)"
      ]
     },
     "execution_count": 150,
     "metadata": {},
     "output_type": "execute_result"
    }
   ],
   "source": [
    "%%time\n",
    "def two_sum(S, target):\n",
    "    visited = set()\n",
    "\n",
    "    for s in S:\n",
    "        if target - s in visited:\n",
    "            return s, target - s\n",
    "\n",
    "        visited.add(s)\n",
    "\n",
    "    return None\n",
    "\n",
    "\n",
    "two_sum(A, target)"
   ]
  }
 ],
 "metadata": {
  "kernelspec": {
   "display_name": "Python 3 (ipykernel)",
   "language": "python",
   "name": "python3"
  },
  "language_info": {
   "codemirror_mode": {
    "name": "ipython",
    "version": 3
   },
   "file_extension": ".py",
   "mimetype": "text/x-python",
   "name": "python",
   "nbconvert_exporter": "python",
   "pygments_lexer": "ipython3",
   "version": "3.8.10"
  }
 },
 "nbformat": 4,
 "nbformat_minor": 5
}
