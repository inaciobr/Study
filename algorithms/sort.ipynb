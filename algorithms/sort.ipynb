{
 "cells": [
  {
   "cell_type": "markdown",
   "id": "a925ee0d-8659-4495-b5ec-453f6957184c",
   "metadata": {},
   "source": [
    "# Sorting Algorithms"
   ]
  },
  {
   "cell_type": "code",
   "execution_count": 89,
   "id": "bf24afe0-ae92-447a-b26f-980bfcd0ecab",
   "metadata": {},
   "outputs": [],
   "source": [
    "from typing import List\n",
    "import operator as op\n",
    "import copy\n",
    "\n",
    "import numpy as np"
   ]
  },
  {
   "cell_type": "code",
   "execution_count": 410,
   "id": "5d7524ce-683d-46ce-9ef7-78ab46bcf98f",
   "metadata": {},
   "outputs": [],
   "source": [
    "num_test_cases = 98\n",
    "\n",
    "test_cases = np.random.randint(-1000, 1000, size=(num_test_cases, 200))\n",
    "expected_cases = np.sort(test_cases, axis=1)\n",
    "\n",
    "\n",
    "def check_sort(sort_fun, ascending=True):\n",
    "    test_sample = copy.deepcopy(test_cases.tolist()) + [[], [1]]\n",
    "    expected_sample = copy.deepcopy(expected_cases.tolist() if ascending else expected_cases[:, ::-1].tolist()) + [[], [1]]\n",
    "\n",
    "    result_sample = list(map(sort_fun, test_sample))\n",
    "\n",
    "    passed = [\n",
    "        res == expected\n",
    "        for res, expected in zip(result_sample, expected_sample)\n",
    "    ]\n",
    "\n",
    "    print(f\"Passed {sum(passed)}/{len(test_sample)}\")\n",
    "\n",
    "    if not all(passed):\n",
    "        not_passed_idx = passed.index(False)\n",
    "        print(f\"Example: {test_cases[not_passed_idx].tolist()}\")\n",
    "        print(f\"Returned: {result_sample[not_passed_idx]}\")\n",
    "        print(f\"Expected: {expected_sample[not_passed_idx]}\")"
   ]
  },
  {
   "cell_type": "markdown",
   "id": "b0828f8a-9268-4b4c-bbb1-1423bb75879e",
   "metadata": {},
   "source": [
    "# Insertion Sort"
   ]
  },
  {
   "cell_type": "markdown",
   "id": "546ddd80-f1a8-467a-beb6-f49c74a654ef",
   "metadata": {},
   "source": [
    "Incremental algorithm"
   ]
  },
  {
   "cell_type": "code",
   "execution_count": 413,
   "id": "7c9ecb56-fba6-418a-ae5d-0d709bddd33e",
   "metadata": {},
   "outputs": [
    {
     "name": "stdout",
     "output_type": "stream",
     "text": [
      "Passed 100/100\n",
      "CPU times: user 145 ms, sys: 0 ns, total: 145 ms\n",
      "Wall time: 144 ms\n"
     ]
    }
   ],
   "source": [
    "%%time\n",
    "def insertion_sort(A: List) -> List:\n",
    "    for i, key in enumerate(A[1:], start=1):\n",
    "    # for i in range(1, len(A)):\n",
    "        # key = A[i]\n",
    "        j = i - 1\n",
    "\n",
    "        while j >= 0 and A[j] > key:\n",
    "            A[j + 1] = A[j]\n",
    "            j -= 1\n",
    "\n",
    "        A[j + 1] = key\n",
    "\n",
    "    return A\n",
    "\n",
    "\n",
    "res = check_sort(insertion_sort)"
   ]
  },
  {
   "cell_type": "code",
   "execution_count": 418,
   "id": "4cb95929-ab6e-4963-9077-f9027315cd7f",
   "metadata": {},
   "outputs": [
    {
     "name": "stdout",
     "output_type": "stream",
     "text": [
      "Passed 100/100\n",
      "CPU times: user 140 ms, sys: 10 ms, total: 150 ms\n",
      "Wall time: 149 ms\n"
     ]
    }
   ],
   "source": [
    "%%time\n",
    "def insertion_sort_descending(A: List) -> List:\n",
    "    for i, key in enumerate(A[1:], start=1):\n",
    "    # for i in range(1, len(A)):\n",
    "        # key = A[i]\n",
    "        j = i - 1\n",
    "\n",
    "        while j >= 0 and A[j] < key:\n",
    "            A[j + 1] = A[j]\n",
    "            j -= 1\n",
    "\n",
    "        A[j + 1] = key\n",
    "\n",
    "    return A\n",
    "\n",
    "\n",
    "res = check_sort(insertion_sort_descending, ascending=False)"
   ]
  },
  {
   "cell_type": "code",
   "execution_count": 429,
   "id": "60bfa45a-08b4-4b4b-b2bf-20f9cf96d393",
   "metadata": {},
   "outputs": [
    {
     "name": "stdout",
     "output_type": "stream",
     "text": [
      "Passed 100/100\n",
      "CPU times: user 179 ms, sys: 0 ns, total: 179 ms\n",
      "Wall time: 177 ms\n"
     ]
    }
   ],
   "source": [
    "%%time\n",
    "def insert_sorted(A: List) -> List:\n",
    "    key = A[-1]\n",
    "    j = len(A) - 2\n",
    "\n",
    "    while j >= 0 and A[j] > key:\n",
    "        A[j + 1] = A[j]\n",
    "        j -= 1\n",
    "\n",
    "    A[j + 1] = key\n",
    "\n",
    "    return A\n",
    "\n",
    "\n",
    "def recursive_insertion_sort(A: List) -> List:\n",
    "    if len(A) <= 1:\n",
    "        return A\n",
    "\n",
    "    # Sort array up to the last but one element.\n",
    "    A[:-1] = recursive_insertion_sort(A[:-1])\n",
    "\n",
    "    # Insert the last element in the correct position.\n",
    "    return insert_sorted(A)\n",
    "\n",
    "\n",
    "check_sort(recursive_insertion_sort)"
   ]
  },
  {
   "cell_type": "markdown",
   "id": "3389e3e2-8d0e-436a-aee3-3879fe63ee90",
   "metadata": {},
   "source": [
    "# Selection Sort"
   ]
  },
  {
   "cell_type": "markdown",
   "id": "c9e01099-841b-4af2-ba1f-e0b9588c0262",
   "metadata": {},
   "source": [
    "Incremental algorithm"
   ]
  },
  {
   "cell_type": "code",
   "execution_count": 435,
   "id": "7a22fdbe-f7c6-4907-bb4a-0dc5a77dfd01",
   "metadata": {},
   "outputs": [
    {
     "name": "stdout",
     "output_type": "stream",
     "text": [
      "Passed 100/100\n",
      "CPU times: user 194 ms, sys: 0 ns, total: 194 ms\n",
      "Wall time: 192 ms\n"
     ]
    }
   ],
   "source": [
    "%%time\n",
    "def selection_sort(A: List) -> List:\n",
    "    for i in range(len(A) - 1):\n",
    "        min_pos = i\n",
    "\n",
    "        for j, val in enumerate(A[i:], start=i):\n",
    "            if val < A[min_pos]:\n",
    "                min_pos = j\n",
    "\n",
    "        A[i], A[min_pos] = A[min_pos], A[i]\n",
    "\n",
    "    return A\n",
    "\n",
    "\n",
    "check_sort(selection_sort)"
   ]
  },
  {
   "cell_type": "code",
   "execution_count": 438,
   "id": "0c7dae40-40d6-4a5c-abd4-4f6e6bd4b09c",
   "metadata": {},
   "outputs": [
    {
     "name": "stdout",
     "output_type": "stream",
     "text": [
      "Passed 100/100\n",
      "CPU times: user 181 ms, sys: 0 ns, total: 181 ms\n",
      "Wall time: 179 ms\n"
     ]
    }
   ],
   "source": [
    "%%time\n",
    "def selection_sort(A: List) -> List:\n",
    "    for i in range(len(A) - 1):\n",
    "        _, min_pos = min(zip(A[i:], range(i, len(A))))\n",
    "        A[i], A[min_pos] = A[min_pos], A[i]\n",
    "\n",
    "    return A\n",
    "\n",
    "\n",
    "check_sort(selection_sort)"
   ]
  },
  {
   "cell_type": "markdown",
   "id": "2d5d7957-b7ce-440e-a313-8b1a86bd7080",
   "metadata": {},
   "source": [
    "# Bubble Sort"
   ]
  },
  {
   "cell_type": "code",
   "execution_count": 572,
   "id": "380c1089-afab-4434-a386-f80e30db0eb9",
   "metadata": {},
   "outputs": [
    {
     "name": "stdout",
     "output_type": "stream",
     "text": [
      "Passed 100/100\n",
      "CPU times: user 287 ms, sys: 0 ns, total: 287 ms\n",
      "Wall time: 287 ms\n"
     ]
    }
   ],
   "source": [
    "%%time\n",
    "def bubble_sort(A: List) -> List:\n",
    "    for i in range(len(A)):\n",
    "        for j in range(len(A) - 1, i, -1):\n",
    "            if A[j] < A[j - 1]:\n",
    "                A[j], A[j - 1] = A[j - 1], A[j]\n",
    "\n",
    "    return A\n",
    "\n",
    "check_sort(bubble_sort)"
   ]
  },
  {
   "cell_type": "markdown",
   "id": "e7ffff90-812a-4221-97a0-82e7665785f8",
   "metadata": {},
   "source": [
    "# Merge Sort"
   ]
  },
  {
   "cell_type": "markdown",
   "id": "a2797e81-2a05-444f-bed4-61278ecdfb53",
   "metadata": {},
   "source": [
    "Divide and Conquer"
   ]
  },
  {
   "cell_type": "code",
   "execution_count": 465,
   "id": "4e66fbec-6e3f-4406-b443-d7b6201e4d14",
   "metadata": {},
   "outputs": [
    {
     "name": "stdout",
     "output_type": "stream",
     "text": [
      "Passed 100/100\n",
      "CPU times: user 59.3 ms, sys: 0 ns, total: 59.3 ms\n",
      "Wall time: 58.1 ms\n"
     ]
    }
   ],
   "source": [
    "%%time\n",
    "def merge(A: List) -> List:\n",
    "    i, j = 0, len(A) - 1\n",
    "    q = (j - i + 1) // 2\n",
    "\n",
    "    # Revert the second half ot the array simplifies the two-pointers strategy.\n",
    "    # If one of the pointers go beyond the half o the array, it will get to the\n",
    "    # greatest element of the other side, so the logic remains working, and we\n",
    "    # don't have to keep checking the limits.\n",
    "    B = A[:q]\n",
    "    B[q:] = A[q:][::-1]\n",
    "\n",
    "    for k in range(len(A)):\n",
    "        # Two-pointers\n",
    "        if B[i] <= B[j]:\n",
    "            A[k] = B[i]\n",
    "            i += 1\n",
    "        else:\n",
    "            A[k] = B[j]\n",
    "            j -= 1\n",
    "\n",
    "    return A\n",
    "\n",
    "\n",
    "def merge_sort(A: List) -> List:\n",
    "    if len(A) <= 1:\n",
    "        return A\n",
    "\n",
    "    # Divide\n",
    "    q = len(A) // 2\n",
    "    A[:q] = merge_sort(A[:q])\n",
    "    A[q:] = merge_sort(A[q:])\n",
    "\n",
    "    # Conquer\n",
    "    return merge(A)\n",
    "\n",
    "\n",
    "check_sort(merge_sort)"
   ]
  },
  {
   "cell_type": "code",
   "execution_count": 555,
   "id": "f92679d2-1bba-4eb3-8b5a-ba9b78880748",
   "metadata": {},
   "outputs": [
    {
     "name": "stdout",
     "output_type": "stream",
     "text": [
      "Passed 100/100\n",
      "CPU times: user 30.3 ms, sys: 8.3 ms, total: 38.6 ms\n",
      "Wall time: 38 ms\n"
     ]
    }
   ],
   "source": [
    "%%time\n",
    "def merge_insertion_sort(A: List) -> List:\n",
    "    if len(A) <= 8:\n",
    "        return insertion_sort(A)\n",
    "\n",
    "    # Divide\n",
    "    q = len(A) // 2\n",
    "    A[:q] = merge_sort(A[:q])\n",
    "    A[q:] = merge_sort(A[q:])\n",
    "\n",
    "    # Conquer\n",
    "    return merge(A)\n",
    "\n",
    "\n",
    "check_sort(merge_insertion_sort)"
   ]
  },
  {
   "cell_type": "markdown",
   "id": "9ccbbbd2-dd9d-4a05-b765-f02701ba53fa",
   "metadata": {},
   "source": [
    "## Inversions"
   ]
  },
  {
   "cell_type": "code",
   "execution_count": 585,
   "id": "03c4629d-53b8-40fc-a09a-cc68da5ec5cc",
   "metadata": {},
   "outputs": [
    {
     "name": "stdout",
     "output_type": "stream",
     "text": [
      "[9309, 10259, 10398, 10842, 9419, 10992, 10424, 10032, 10144, 9858, 9608, 9675, 9922, 9785, 9771, 9737, 9855, 9589, 10304, 9099, 10012, 9340, 10429, 10795, 9799, 10036, 10196, 9944, 10774, 10486, 10029, 10750, 9634, 9227, 9054, 10209, 10178, 10215, 10410, 9764, 10761, 9749, 9733, 9818, 9595, 9799, 9944, 9574, 9654, 10193, 10219, 9629, 9987, 10582, 10618, 9330, 9901, 8989, 9472, 10272, 10492, 9977, 10167, 8778, 9288, 9892, 9922, 10952, 9734, 10575, 9450, 9465, 9563, 9284, 9481, 9391, 10660, 10120, 10036, 9421, 9962, 9578, 10026, 10787, 10815, 9855, 10213, 10427, 9146, 10783, 10637, 10235, 9970, 9726, 9097, 10034, 9660, 10783]\n",
      "CPU times: user 124 ms, sys: 0 ns, total: 124 ms\n",
      "Wall time: 123 ms\n"
     ]
    }
   ],
   "source": [
    "%%time\n",
    "def number_of_inversions_bf(A: List) -> List:\n",
    "    return sum(\n",
    "        a > b\n",
    "        for i, a in enumerate(A)\n",
    "        for b in A[i + 1:]\n",
    "    )\n",
    "\n",
    "inversions_expected = [\n",
    "    number_of_inversions_bf(test)\n",
    "    for test in test_cases.tolist()\n",
    "]\n",
    "\n",
    "print(inversions_expected)"
   ]
  },
  {
   "cell_type": "code",
   "execution_count": 607,
   "id": "d3ff7794-0c94-44e7-bf34-829ad26f2b1b",
   "metadata": {},
   "outputs": [
    {
     "name": "stdout",
     "output_type": "stream",
     "text": [
      "[9309, 10259, 10398, 10842, 9419, 10992, 10424, 10032, 10144, 9858, 9608, 9675, 9922, 9785, 9771, 9737, 9855, 9589, 10304, 9099, 10012, 9340, 10429, 10795, 9799, 10036, 10196, 9944, 10774, 10486, 10029, 10750, 9634, 9227, 9054, 10209, 10178, 10215, 10410, 9764, 10761, 9749, 9733, 9818, 9595, 9799, 9944, 9574, 9654, 10193, 10219, 9629, 9987, 10582, 10618, 9330, 9901, 8989, 9472, 10272, 10492, 9977, 10167, 8778, 9288, 9892, 9922, 10952, 9734, 10575, 9450, 9465, 9563, 9284, 9481, 9391, 10660, 10120, 10036, 9421, 9962, 9578, 10026, 10787, 10815, 9855, 10213, 10427, 9146, 10783, 10637, 10235, 9970, 9726, 9097, 10034, 9660, 10783]\n"
     ]
    }
   ],
   "source": [
    "def merge_inversions(A: List) -> List:\n",
    "    i, j = 0, len(A) - 1\n",
    "    q = (j - i + 1) // 2\n",
    "    num_inversions = 0\n",
    "\n",
    "    B = A[:q]\n",
    "    B[q:] = A[q:][::-1]\n",
    "\n",
    "    for k in range(len(A)):\n",
    "        # Two-pointers\n",
    "        if B[i] <= B[j]:\n",
    "            A[k] = B[i]\n",
    "            i += 1\n",
    "        else:\n",
    "            A[k] = B[j]\n",
    "            j -= 1\n",
    "            # When we take an element from the right, the number of inversions\n",
    "            # is equal to the number of elements in i..q (from the left side)\n",
    "            num_inversions += q - i\n",
    "\n",
    "    return A, num_inversions\n",
    "\n",
    "\n",
    "def merge_sort_inversions(A: List) -> List:\n",
    "    if len(A) <= 1:\n",
    "        return A, 0\n",
    "\n",
    "    q = len(A) // 2\n",
    "    A[:q], n1 = merge_sort_inversions(A[:q])\n",
    "    A[q:], n2 = merge_sort_inversions(A[q:])\n",
    "\n",
    "    # Here the two parts are already sorted, so there is no inversion inside each half,\n",
    "    # but n1 and n2 bring the information about the inversions before sorting the halves.\n",
    "    A, n = merge_inversions(A)\n",
    "    return A, n + n1 + n2\n",
    "\n",
    "inversions_expected = [\n",
    "    merge_sort_inversions(test)[1]\n",
    "    for test in test_cases.tolist()\n",
    "]\n",
    "\n",
    "print(inversions_expected)"
   ]
  },
  {
   "cell_type": "markdown",
   "id": "933b3a2a-0b97-4a03-b583-559731cc573a",
   "metadata": {},
   "source": [
    "# Quick Sort"
   ]
  },
  {
   "cell_type": "code",
   "execution_count": 450,
   "id": "9fdfdfa3-1327-4f95-b12d-8efad708d977",
   "metadata": {},
   "outputs": [
    {
     "name": "stdout",
     "output_type": "stream",
     "text": [
      "Passed 100/100\n",
      "CPU times: user 329 ms, sys: 0 ns, total: 329 ms\n",
      "Wall time: 327 ms\n"
     ]
    }
   ],
   "source": [
    "%%time\n",
    "def partition(A: List) -> int:\n",
    "    i = -1\n",
    "\n",
    "    for j in range(len(A)):\n",
    "        if A[j] <= A[-1]:\n",
    "            i += 1\n",
    "            A[j], A[i] = A[i], A[j]\n",
    "\n",
    "    return i\n",
    "\n",
    "\n",
    "def quicksort(A: List) -> List:\n",
    "    if len(A) <= 1:\n",
    "        return A\n",
    "\n",
    "    q = partition(A)\n",
    "    A[:q] = quicksort(A[:q])\n",
    "    A[q + 1:] = quicksort(A[q + 1:])\n",
    "\n",
    "    return A\n",
    "\n",
    "\n",
    "check_sort(recursive_insertion_sort)"
   ]
  }
 ],
 "metadata": {
  "kernelspec": {
   "display_name": "Python 3 (ipykernel)",
   "language": "python",
   "name": "python3"
  },
  "language_info": {
   "codemirror_mode": {
    "name": "ipython",
    "version": 3
   },
   "file_extension": ".py",
   "mimetype": "text/x-python",
   "name": "python",
   "nbconvert_exporter": "python",
   "pygments_lexer": "ipython3",
   "version": "3.8.10"
  }
 },
 "nbformat": 4,
 "nbformat_minor": 5
}
